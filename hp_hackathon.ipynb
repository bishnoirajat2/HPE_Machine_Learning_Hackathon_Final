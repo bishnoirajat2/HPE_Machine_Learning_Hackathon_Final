{
 "cells": [
  {
   "cell_type": "code",
   "execution_count": 34,
   "metadata": {},
   "outputs": [],
   "source": [
    "import numpy as np\n",
    "import pandas as pd\n",
    "import matplotlib.pyplot as plt"
   ]
  },
  {
   "cell_type": "code",
   "execution_count": 35,
   "metadata": {},
   "outputs": [
    {
     "data": {
      "text/html": [
       "<div>\n",
       "<style scoped>\n",
       "    .dataframe tbody tr th:only-of-type {\n",
       "        vertical-align: middle;\n",
       "    }\n",
       "\n",
       "    .dataframe tbody tr th {\n",
       "        vertical-align: top;\n",
       "    }\n",
       "\n",
       "    .dataframe thead th {\n",
       "        text-align: right;\n",
       "    }\n",
       "</style>\n",
       "<table border=\"1\" class=\"dataframe\">\n",
       "  <thead>\n",
       "    <tr style=\"text-align: right;\">\n",
       "      <th></th>\n",
       "      <th>key</th>\n",
       "      <th>having_IP</th>\n",
       "      <th>URL_Length</th>\n",
       "      <th>Shortining_Service</th>\n",
       "      <th>having_At_Symbol</th>\n",
       "      <th>double_slash_redirecting</th>\n",
       "      <th>Prefix_Suffix</th>\n",
       "      <th>having_Sub_Domain</th>\n",
       "      <th>SSLfinal_State</th>\n",
       "      <th>Domain_registeration_length</th>\n",
       "      <th>...</th>\n",
       "      <th>popUpWidnow</th>\n",
       "      <th>Iframe</th>\n",
       "      <th>age_of_domain</th>\n",
       "      <th>DNSRecord</th>\n",
       "      <th>web_traffic</th>\n",
       "      <th>Page_Rank</th>\n",
       "      <th>Google_Index</th>\n",
       "      <th>Links_pointing_to_page</th>\n",
       "      <th>Statistical_report</th>\n",
       "      <th>Result</th>\n",
       "    </tr>\n",
       "  </thead>\n",
       "  <tbody>\n",
       "    <tr>\n",
       "      <th>0</th>\n",
       "      <td>12344</td>\n",
       "      <td>-1</td>\n",
       "      <td>1</td>\n",
       "      <td>1</td>\n",
       "      <td>1</td>\n",
       "      <td>-1</td>\n",
       "      <td>-1</td>\n",
       "      <td>-1</td>\n",
       "      <td>-1</td>\n",
       "      <td>-1</td>\n",
       "      <td>...</td>\n",
       "      <td>1</td>\n",
       "      <td>1</td>\n",
       "      <td>-1</td>\n",
       "      <td>-1</td>\n",
       "      <td>-1</td>\n",
       "      <td>-1</td>\n",
       "      <td>1</td>\n",
       "      <td>1</td>\n",
       "      <td>-1</td>\n",
       "      <td>-1</td>\n",
       "    </tr>\n",
       "    <tr>\n",
       "      <th>1</th>\n",
       "      <td>12345</td>\n",
       "      <td>1</td>\n",
       "      <td>1</td>\n",
       "      <td>1</td>\n",
       "      <td>1</td>\n",
       "      <td>1</td>\n",
       "      <td>-1</td>\n",
       "      <td>0</td>\n",
       "      <td>1</td>\n",
       "      <td>-1</td>\n",
       "      <td>...</td>\n",
       "      <td>1</td>\n",
       "      <td>1</td>\n",
       "      <td>-1</td>\n",
       "      <td>-1</td>\n",
       "      <td>0</td>\n",
       "      <td>-1</td>\n",
       "      <td>1</td>\n",
       "      <td>1</td>\n",
       "      <td>1</td>\n",
       "      <td>-1</td>\n",
       "    </tr>\n",
       "    <tr>\n",
       "      <th>2</th>\n",
       "      <td>12346</td>\n",
       "      <td>1</td>\n",
       "      <td>0</td>\n",
       "      <td>1</td>\n",
       "      <td>1</td>\n",
       "      <td>1</td>\n",
       "      <td>-1</td>\n",
       "      <td>-1</td>\n",
       "      <td>-1</td>\n",
       "      <td>-1</td>\n",
       "      <td>...</td>\n",
       "      <td>1</td>\n",
       "      <td>1</td>\n",
       "      <td>1</td>\n",
       "      <td>-1</td>\n",
       "      <td>1</td>\n",
       "      <td>-1</td>\n",
       "      <td>1</td>\n",
       "      <td>0</td>\n",
       "      <td>-1</td>\n",
       "      <td>-1</td>\n",
       "    </tr>\n",
       "    <tr>\n",
       "      <th>3</th>\n",
       "      <td>12347</td>\n",
       "      <td>1</td>\n",
       "      <td>0</td>\n",
       "      <td>1</td>\n",
       "      <td>1</td>\n",
       "      <td>1</td>\n",
       "      <td>-1</td>\n",
       "      <td>-1</td>\n",
       "      <td>-1</td>\n",
       "      <td>1</td>\n",
       "      <td>...</td>\n",
       "      <td>1</td>\n",
       "      <td>1</td>\n",
       "      <td>-1</td>\n",
       "      <td>-1</td>\n",
       "      <td>1</td>\n",
       "      <td>-1</td>\n",
       "      <td>1</td>\n",
       "      <td>-1</td>\n",
       "      <td>1</td>\n",
       "      <td>-1</td>\n",
       "    </tr>\n",
       "    <tr>\n",
       "      <th>4</th>\n",
       "      <td>12348</td>\n",
       "      <td>1</td>\n",
       "      <td>0</td>\n",
       "      <td>-1</td>\n",
       "      <td>1</td>\n",
       "      <td>1</td>\n",
       "      <td>-1</td>\n",
       "      <td>1</td>\n",
       "      <td>1</td>\n",
       "      <td>-1</td>\n",
       "      <td>...</td>\n",
       "      <td>-1</td>\n",
       "      <td>1</td>\n",
       "      <td>-1</td>\n",
       "      <td>-1</td>\n",
       "      <td>0</td>\n",
       "      <td>-1</td>\n",
       "      <td>1</td>\n",
       "      <td>1</td>\n",
       "      <td>1</td>\n",
       "      <td>1</td>\n",
       "    </tr>\n",
       "  </tbody>\n",
       "</table>\n",
       "<p>5 rows × 32 columns</p>\n",
       "</div>"
      ],
      "text/plain": [
       "     key  having_IP  URL_Length  Shortining_Service  having_At_Symbol  \\\n",
       "0  12344         -1           1                   1                 1   \n",
       "1  12345          1           1                   1                 1   \n",
       "2  12346          1           0                   1                 1   \n",
       "3  12347          1           0                   1                 1   \n",
       "4  12348          1           0                  -1                 1   \n",
       "\n",
       "   double_slash_redirecting  Prefix_Suffix  having_Sub_Domain  SSLfinal_State  \\\n",
       "0                        -1             -1                 -1              -1   \n",
       "1                         1             -1                  0               1   \n",
       "2                         1             -1                 -1              -1   \n",
       "3                         1             -1                 -1              -1   \n",
       "4                         1             -1                  1               1   \n",
       "\n",
       "   Domain_registeration_length  ...  popUpWidnow  Iframe  age_of_domain  \\\n",
       "0                           -1  ...            1       1             -1   \n",
       "1                           -1  ...            1       1             -1   \n",
       "2                           -1  ...            1       1              1   \n",
       "3                            1  ...            1       1             -1   \n",
       "4                           -1  ...           -1       1             -1   \n",
       "\n",
       "   DNSRecord  web_traffic  Page_Rank  Google_Index  Links_pointing_to_page  \\\n",
       "0         -1           -1         -1             1                       1   \n",
       "1         -1            0         -1             1                       1   \n",
       "2         -1            1         -1             1                       0   \n",
       "3         -1            1         -1             1                      -1   \n",
       "4         -1            0         -1             1                       1   \n",
       "\n",
       "   Statistical_report  Result  \n",
       "0                  -1      -1  \n",
       "1                   1      -1  \n",
       "2                  -1      -1  \n",
       "3                   1      -1  \n",
       "4                   1       1  \n",
       "\n",
       "[5 rows x 32 columns]"
      ]
     },
     "execution_count": 35,
     "metadata": {},
     "output_type": "execute_result"
    }
   ],
   "source": [
    "data = pd.read_csv('E:/Complete_Dataset/Phising_Training_Dataset.csv')\n",
    "test = pd.read_csv('E:/Complete_Dataset/Phising_Testing_Dataset.csv')\n",
    "data.head()"
   ]
  },
  {
   "cell_type": "code",
   "execution_count": 36,
   "metadata": {},
   "outputs": [],
   "source": [
    "target = data.iloc[:,-1]\n",
    "train = data.iloc[:,1:-1]\n",
    "key = test[['key']]\n",
    "test = test.iloc[:,1:]"
   ]
  },
  {
   "cell_type": "code",
   "execution_count": 37,
   "id": "dc7ca390",
   "metadata": {},
   "outputs": [],
   "source": [
    "from sklearn.metrics import classification_report\n",
    "# from sklearn.ensemble import RandomForestRegressor\n",
    "from sklearn.ensemble import GradientBoostingClassifier"
   ]
  },
  {
   "cell_type": "code",
   "execution_count": 38,
   "id": "4c0cca45",
   "metadata": {},
   "outputs": [],
   "source": [
    "# from sklearn.model_selection import RandomizedSearchCV\n",
    "# distributions = dict(n_estimators=[1000,5000,10000], learning_rate= [0.3,0.1,0.05], max_features=['auto',30])\n",
    "# gbc = GradientBoostingClassifier(random_state=0)\n",
    "# clf = RandomizedSearchCV(gbc, distributions, random_state=0, n_jobs = -1, cv = 5, verbose = 2)\n",
    "# search = clf.fit(train, target)\n",
    "# print(search.best_params_)"
   ]
  },
  {
   "cell_type": "markdown",
   "id": "f92c9543",
   "metadata": {},
   "source": [
    "Fitting 5 folds for each of 10 candidates, totalling 50 fits\n",
    "{'n_estimators': 10000, 'max_features': 'auto', 'learning_rate': 0.05}"
   ]
  },
  {
   "cell_type": "code",
   "execution_count": 39,
   "id": "49783fd2",
   "metadata": {},
   "outputs": [
    {
     "name": "stdout",
     "output_type": "stream",
     "text": [
      "(7164, 30) (1791, 30) (7164,) (1791,)\n"
     ]
    }
   ],
   "source": [
    "from sklearn.model_selection import train_test_split\n",
    "X_tr, X_tt, y_tr, y_tt = train_test_split(train, target, stratify=target, test_size=0.2, random_state=0)\n",
    "print(X_tr.shape, X_tt.shape, y_tr.shape, y_tt.shape)"
   ]
  },
  {
   "cell_type": "code",
   "execution_count": 40,
   "id": "38da9363",
   "metadata": {},
   "outputs": [
    {
     "name": "stdout",
     "output_type": "stream",
     "text": [
      "      Iter       Train Loss   Remaining Time \n",
      "         1           1.3001            1.15m\n",
      "         2           1.2363            1.11m\n",
      "         3           1.1785            1.20m\n",
      "         4           1.1259            1.13m\n",
      "         5           1.0778            1.11m\n",
      "         6           1.0339            1.11m\n",
      "         7           0.9933            1.07m\n",
      "         8           0.9562            1.09m\n",
      "         9           0.9218            1.07m\n",
      "        10           0.8901            1.06m\n",
      "        20           0.6735            1.03m\n",
      "        30           0.5575            1.02m\n",
      "        40           0.4879            1.04m\n",
      "        50           0.4388            1.02m\n",
      "        60           0.4034            1.00m\n",
      "        70           0.3775            1.02m\n",
      "        80           0.3591            1.04m\n",
      "        90           0.3439            1.02m\n",
      "       100           0.3300            1.02m\n",
      "       200           0.2554           59.51s\n",
      "       300           0.2220           59.26s\n",
      "       400           0.2020           57.89s\n",
      "       500           0.1876           57.18s\n",
      "       600           0.1764           56.19s\n",
      "       700           0.1671           55.47s\n",
      "       800           0.1578           54.82s\n",
      "       900           0.1514           54.13s\n",
      "      1000           0.1451           53.70s\n",
      "      2000           0.1121           48.82s\n",
      "      3000           0.0958           43.70s\n",
      "      4000           0.0861           38.95s\n",
      "      5000           0.0782           32.77s\n",
      "      6000           0.0725           25.90s\n",
      "      7000           0.0690           19.28s\n",
      "      8000           0.0653           12.76s\n",
      "      9000           0.0623            6.35s\n",
      "     10000           0.0597            0.00s\n"
     ]
    }
   ],
   "source": [
    "model = GradientBoostingClassifier(n_estimators = 10000, max_features =  'auto', learning_rate = 0.05, verbose = 1, random_state=0)\n",
    "hist = model.fit(X_tr, y_tr)"
   ]
  },
  {
   "cell_type": "code",
   "execution_count": 41,
   "id": "1221c051",
   "metadata": {},
   "outputs": [
    {
     "name": "stdout",
     "output_type": "stream",
     "text": [
      "              precision    recall  f1-score   support\n",
      "\n",
      "          -1       0.97      0.96      0.96       784\n",
      "           1       0.97      0.97      0.97      1007\n",
      "\n",
      "    accuracy                           0.97      1791\n",
      "   macro avg       0.97      0.97      0.97      1791\n",
      "weighted avg       0.97      0.97      0.97      1791\n",
      "\n"
     ]
    }
   ],
   "source": [
    "y_pred_all = model.predict(X_tt)\n",
    "print(classification_report(y_tt, y_pred_all))"
   ]
  },
  {
   "cell_type": "markdown",
   "id": "2a845fe7",
   "metadata": {},
   "source": [
    "We can see accuracy on validation set is 97% using all features"
   ]
  },
  {
   "cell_type": "code",
   "execution_count": 42,
   "id": "82648789",
   "metadata": {},
   "outputs": [],
   "source": [
    "importance = model.feature_importances_"
   ]
  },
  {
   "cell_type": "code",
   "execution_count": 43,
   "id": "de81ccaa",
   "metadata": {},
   "outputs": [
    {
     "data": {
      "image/png": "[encoded data removed]",
      "text/plain": [
       "<Figure size 1080x504 with 1 Axes>"
      ]
     },
     "metadata": {
      "needs_background": "light"
     },
     "output_type": "display_data"
    }
   ],
   "source": [
    "dominant_features = []\n",
    "for i,v in enumerate(importance):\n",
    "\t# print('Feature: %0d, Score: %.5f' % (i,v))\n",
    "\tdominant_features.append([i,v])\n",
    "# plot feature importance\n",
    "plt.figure(figsize=(15,7))\n",
    "plt.bar([x for x in range(len(importance))], importance)\n",
    "plt.show()"
   ]
  },
  {
   "cell_type": "code",
   "execution_count": 44,
   "id": "4e16834f",
   "metadata": {},
   "outputs": [
    {
     "name": "stdout",
     "output_type": "stream",
     "text": [
      "    Feature  importance\n",
      "7       7.0    0.693571\n",
      "13     13.0    0.149179\n",
      "25     25.0    0.035329\n",
      "5       5.0    0.034587\n",
      "14     14.0    0.028635\n",
      "6       6.0    0.013602\n",
      "28     28.0    0.007362\n",
      "15     15.0    0.006676\n",
      "12     12.0    0.003489\n",
      "24     24.0    0.003157\n",
      "SSLfinal_State URL_of_Anchor\n"
     ]
    }
   ],
   "source": [
    "array = np.array(dominant_features).astype('float')\n",
    "dominant = pd.DataFrame()\n",
    "dominant['Feature'] = array[:,0]\n",
    "dominant['importance'] = array[:,1]\n",
    "dominant.sort_values(by=['importance'], ascending=False, inplace=True)\n",
    "print(dominant.iloc[:10,:])\n",
    "print(train.columns[7], train.columns[13])"
   ]
  },
  {
   "cell_type": "markdown",
   "id": "8c6bb93c",
   "metadata": {},
   "source": [
    "We can clearly see that top 2 dominant features from top 10 dominant features listed above, are 7th and 13th which are SSLfinal_State and URL_of_Anchor. Now, I will remove these features and select my hypermeters using Cross Validation and then train on it."
   ]
  },
  {
   "cell_type": "code",
   "execution_count": 45,
   "id": "11061278",
   "metadata": {},
   "outputs": [
    {
     "name": "stderr",
     "output_type": "stream",
     "text": [
      "C:\\Users\\bishn\\AppData\\Local\\Temp\\ipykernel_97956\\1540237659.py:1: SettingWithCopyWarning: \n",
      "A value is trying to be set on a copy of a slice from a DataFrame\n",
      "\n",
      "See the caveats in the documentation: https://pandas.pydata.org/pandas-docs/stable/user_guide/indexing.html#returning-a-view-versus-a-copy\n",
      "  train.drop(columns=['SSLfinal_State','URL_of_Anchor'], inplace = True)\n"
     ]
    }
   ],
   "source": [
    "train.drop(columns=['SSLfinal_State','URL_of_Anchor'], inplace = True)\n",
    "test.drop(columns=['SSLfinal_State','URL_of_Anchor'], inplace = True)"
   ]
  },
  {
   "cell_type": "code",
   "execution_count": 47,
   "id": "b9c12505",
   "metadata": {},
   "outputs": [],
   "source": [
    "# from sklearn.model_selection import RandomizedSearchCV\n",
    "# distributions = dict(n_estimators=[1000,5000,10000], learning_rate= [0.3,0.1,0.05], max_features=['auto',28])\n",
    "# gbc = GradientBoostingClassifier(random_state=0)\n",
    "# clf = RandomizedSearchCV(gbc, distributions, random_state=0, n_jobs = -1, cv = 5, verbose = 2)"
   ]
  },
  {
   "cell_type": "code",
   "execution_count": 48,
   "metadata": {},
   "outputs": [],
   "source": [
    "# search = clf.fit(train, target)\n",
    "# print(search.best_params_)"
   ]
  },
  {
   "cell_type": "markdown",
   "id": "62be84d7",
   "metadata": {},
   "source": [
    "Fitting 5 folds for each of 10 candidates, totalling 50 fits\n",
    "{'n_estimators': 5000, 'max_features': 'auto', 'learning_rate': 0.3}"
   ]
  },
  {
   "cell_type": "code",
   "execution_count": 49,
   "id": "e43a6bc1",
   "metadata": {},
   "outputs": [
    {
     "name": "stdout",
     "output_type": "stream",
     "text": [
      "(7164, 28) (1791, 28) (7164,) (1791,)\n"
     ]
    }
   ],
   "source": [
    "from sklearn.model_selection import train_test_split\n",
    "X_train, X_test, y_train, y_test = train_test_split(train, target, stratify=target, test_size=0.2, random_state=0)\n",
    "print(X_train.shape, X_test.shape, y_train.shape, y_test.shape)"
   ]
  },
  {
   "cell_type": "code",
   "execution_count": 50,
   "id": "23aa73c2",
   "metadata": {},
   "outputs": [
    {
     "name": "stdout",
     "output_type": "stream",
     "text": [
      "      Iter       Train Loss   Remaining Time \n",
      "         1           1.1788           42.06s\n",
      "         2           1.0699           35.19s\n",
      "         3           1.0020           39.37s\n",
      "         4           0.9537           35.98s\n",
      "         5           0.9132           35.68s\n",
      "         6           0.8893           34.81s\n",
      "         7           0.8566           33.65s\n",
      "         8           0.8396           34.25s\n",
      "         9           0.8220           34.06s\n",
      "        10           0.8039           33.83s\n",
      "        20           0.7057           30.77s\n",
      "        30           0.6480           29.76s\n",
      "        40           0.6122           31.46s\n",
      "        50           0.5917           31.14s\n",
      "        60           0.5721           31.10s\n",
      "        70           0.5558           31.19s\n",
      "        80           0.5428           30.68s\n",
      "        90           0.5281           30.29s\n",
      "       100           0.5141           30.06s\n",
      "       200           0.4344           28.30s\n",
      "       300           0.3917           27.37s\n",
      "       400           0.3632           27.11s\n",
      "       500           0.3424           26.50s\n",
      "       600           0.3273           25.65s\n",
      "       700           0.3147           24.95s\n",
      "       800           0.3038           24.27s\n",
      "       900           0.2948           23.67s\n",
      "      1000           0.2871           23.05s\n",
      "      2000           0.2367           17.28s\n",
      "      3000           0.2133           11.81s\n",
      "      4000           0.1994            5.89s\n",
      "      5000           0.1893            0.00s\n"
     ]
    }
   ],
   "source": [
    "model2 = GradientBoostingClassifier(n_estimators = 5000, max_features =  'auto', learning_rate = 0.3, verbose = 1, random_state=0)\n",
    "history = model2.fit(X_train, y_train)"
   ]
  },
  {
   "cell_type": "code",
   "execution_count": 51,
   "id": "ffd4b2a9",
   "metadata": {},
   "outputs": [
    {
     "name": "stdout",
     "output_type": "stream",
     "text": [
      "              precision    recall  f1-score   support\n",
      "\n",
      "          -1       0.91      0.88      0.90       784\n",
      "           1       0.91      0.93      0.92      1007\n",
      "\n",
      "    accuracy                           0.91      1791\n",
      "   macro avg       0.91      0.91      0.91      1791\n",
      "weighted avg       0.91      0.91      0.91      1791\n",
      "\n"
     ]
    }
   ],
   "source": [
    "y_pred = model2.predict(X_test)\n",
    "print(classification_report(y_test, y_pred))"
   ]
  },
  {
   "cell_type": "markdown",
   "id": "36340022",
   "metadata": {},
   "source": [
    "Here, we can see there is a decrease in accuracy (91%) when 2 top dominant features have been removed."
   ]
  },
  {
   "cell_type": "code",
   "execution_count": 54,
   "id": "b6099a63",
   "metadata": {},
   "outputs": [
    {
     "name": "stdout",
     "output_type": "stream",
     "text": [
      "      Iter       Train Loss   Remaining Time \n",
      "         1           1.1725            1.94m\n",
      "         2           1.0599            1.74m\n",
      "         3           0.9895            1.93m\n",
      "         4           0.9396            1.87m\n",
      "         5           0.9043            1.83m\n",
      "         6           0.8771            1.81m\n",
      "         7           0.8587            1.84m\n",
      "         8           0.8407            1.81m\n",
      "         9           0.8229            1.80m\n",
      "        10           0.8088            1.78m\n",
      "        20           0.6898            1.68m\n",
      "        30           0.6422            1.62m\n",
      "        40           0.5996            1.51m\n",
      "        50           0.5782            1.43m\n",
      "        60           0.5603            1.43m\n",
      "        70           0.5453            1.43m\n",
      "        80           0.5311            1.45m\n",
      "        90           0.5193            1.45m\n",
      "       100           0.5110            1.41m\n",
      "       200           0.4375            1.08m\n",
      "       300           0.3978           56.11s\n",
      "       400           0.3707           51.55s\n",
      "       500           0.3521           48.81s\n",
      "       600           0.3371           46.91s\n",
      "       700           0.3245           44.91s\n",
      "       800           0.3145           43.45s\n",
      "       900           0.3048           41.98s\n",
      "      1000           0.2972           40.63s\n",
      "      2000           0.2482           31.88s\n",
      "      3000           0.2243           23.38s\n",
      "      4000           0.2097           15.41s\n",
      "      5000           0.2002            7.53s\n",
      "      6000           0.1930            0.00s\n"
     ]
    },
    {
     "data": {
      "text/plain": [
       "GradientBoostingClassifier(learning_rate=0.3, max_features='auto',\n",
       "                           n_estimators=6000, random_state=0, verbose=1)"
      ]
     },
     "execution_count": 54,
     "metadata": {},
     "output_type": "execute_result"
    }
   ],
   "source": [
    "# Training on whole dataset\n",
    "model_final = GradientBoostingClassifier(n_estimators = 6000, max_features =  'auto', learning_rate = 0.3, verbose = 1, random_state=0)\n",
    "model_final.fit(train, target)"
   ]
  },
  {
   "cell_type": "code",
   "execution_count": 55,
   "id": "a4345b3a",
   "metadata": {},
   "outputs": [],
   "source": [
    "yhat = model_final.predict(test)"
   ]
  },
  {
   "cell_type": "code",
   "execution_count": 56,
   "id": "01cd2db0",
   "metadata": {},
   "outputs": [
    {
     "data": {
      "text/html": [
       "<div>\n",
       "<style scoped>\n",
       "    .dataframe tbody tr th:only-of-type {\n",
       "        vertical-align: middle;\n",
       "    }\n",
       "\n",
       "    .dataframe tbody tr th {\n",
       "        vertical-align: top;\n",
       "    }\n",
       "\n",
       "    .dataframe thead th {\n",
       "        text-align: right;\n",
       "    }\n",
       "</style>\n",
       "<table border=\"1\" class=\"dataframe\">\n",
       "  <thead>\n",
       "    <tr style=\"text-align: right;\">\n",
       "      <th></th>\n",
       "      <th>key</th>\n",
       "      <th>Result</th>\n",
       "    </tr>\n",
       "  </thead>\n",
       "  <tbody>\n",
       "    <tr>\n",
       "      <th>0</th>\n",
       "      <td>21338</td>\n",
       "      <td>1</td>\n",
       "    </tr>\n",
       "    <tr>\n",
       "      <th>1</th>\n",
       "      <td>21339</td>\n",
       "      <td>-1</td>\n",
       "    </tr>\n",
       "    <tr>\n",
       "      <th>2</th>\n",
       "      <td>21340</td>\n",
       "      <td>-1</td>\n",
       "    </tr>\n",
       "    <tr>\n",
       "      <th>3</th>\n",
       "      <td>21341</td>\n",
       "      <td>-1</td>\n",
       "    </tr>\n",
       "    <tr>\n",
       "      <th>4</th>\n",
       "      <td>21342</td>\n",
       "      <td>1</td>\n",
       "    </tr>\n",
       "    <tr>\n",
       "      <th>...</th>\n",
       "      <td>...</td>\n",
       "      <td>...</td>\n",
       "    </tr>\n",
       "    <tr>\n",
       "      <th>2095</th>\n",
       "      <td>23433</td>\n",
       "      <td>1</td>\n",
       "    </tr>\n",
       "    <tr>\n",
       "      <th>2096</th>\n",
       "      <td>23434</td>\n",
       "      <td>1</td>\n",
       "    </tr>\n",
       "    <tr>\n",
       "      <th>2097</th>\n",
       "      <td>23435</td>\n",
       "      <td>-1</td>\n",
       "    </tr>\n",
       "    <tr>\n",
       "      <th>2098</th>\n",
       "      <td>23436</td>\n",
       "      <td>-1</td>\n",
       "    </tr>\n",
       "    <tr>\n",
       "      <th>2099</th>\n",
       "      <td>23437</td>\n",
       "      <td>1</td>\n",
       "    </tr>\n",
       "  </tbody>\n",
       "</table>\n",
       "<p>2100 rows × 2 columns</p>\n",
       "</div>"
      ],
      "text/plain": [
       "        key  Result\n",
       "0     21338       1\n",
       "1     21339      -1\n",
       "2     21340      -1\n",
       "3     21341      -1\n",
       "4     21342       1\n",
       "...     ...     ...\n",
       "2095  23433       1\n",
       "2096  23434       1\n",
       "2097  23435      -1\n",
       "2098  23436      -1\n",
       "2099  23437       1\n",
       "\n",
       "[2100 rows x 2 columns]"
      ]
     },
     "execution_count": 56,
     "metadata": {},
     "output_type": "execute_result"
    }
   ],
   "source": [
    "df = pd.DataFrame()\n",
    "df['key'] = key\n",
    "df['Result'] = yhat\n",
    "df"
   ]
  },
  {
   "cell_type": "code",
   "execution_count": 57,
   "id": "ef743dbd",
   "metadata": {},
   "outputs": [],
   "source": [
    "df.to_csv('submission.csv', index=False)"
   ]
  },
  {
   "cell_type": "markdown",
   "id": "fbfaa43f",
   "metadata": {},
   "source": [
    "### As we can see that, there was a significant decrease of accuracy after removing 2 top dominant features, so they have a pivotal role in correctly identifying if the website is legitimate or not."
   ]
  }
 ],
 "metadata": {
  "kernelspec": {
   "display_name": "Python 3.10.3 64-bit",
   "language": "python",
   "name": "python3"
  },
  "language_info": {
   "codemirror_mode": {
    "name": "ipython",
    "version": 3
   },
   "file_extension": ".py",
   "mimetype": "text/x-python",
   "name": "python",
   "nbconvert_exporter": "python",
   "pygments_lexer": "ipython3",
   "version": "3.10.3"
  },
  "toc-autonumbering": true,
  "toc-showcode": true,
  "toc-showtags": false,
  "vscode": {
   "interpreter": {
    "hash": "d0ea9413f1ecbba5d42c1d141a839597dd64c0eea0dcfdc7d998d67c1af60b4e"
   }
  }
 },
 "nbformat": 4,
 "nbformat_minor": 5
}
